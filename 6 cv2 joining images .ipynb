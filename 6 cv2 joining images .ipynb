{
 "cells": [
  {
   "cell_type": "code",
   "execution_count": 9,
   "id": "c6f92aed",
   "metadata": {},
   "outputs": [
    {
     "data": {
      "text/plain": [
       "-1"
      ]
     },
     "execution_count": 9,
     "metadata": {},
     "output_type": "execute_result"
    }
   ],
   "source": [
    "import cv2\n",
    "import numpy as np \n",
    "img=cv2.imread('cards.jpg')\n",
    "#imgResize=cv2.resize(img,(200,200))\n",
    "#imgHor=np.hstack((img,img))\n",
    "#imgVer=np.vstack((img,img))\n",
    "#cv2.imshow('Horizontal',imgHor)\n",
    "#cv2.imshow('vertical ',imgVer)\n",
    "#cv2.waitKey()"
   ]
  },
  {
   "cell_type": "code",
   "execution_count": null,
   "id": "9771c5b7",
   "metadata": {},
   "outputs": [],
   "source": [
    "#mean\n",
    "def stackImages(scale,imgArray):\n",
    "    rows=len(imgArray)\n",
    "    cols=len(imgArray[0])\n",
    "    rowsAvailable=isinstance(imgArray[0],list)\n",
    "    width=imgArray[0][0].shape[1]\n",
    "    height=imgArray[0][0].shape[0]\n",
    "    if rowsAvailable:\n",
    "        for x in range(0,rows):\n",
    "            for y in range(0,cols):\n",
    "                if imgArray[x][y].shape[:2]==imgArray[0][0].shape[:2]:\n",
    "                    imgArray[x][y]=cv2.resize(imgArray[x][y],(0,0),None)"
   ]
  }
 ],
 "metadata": {
  "kernelspec": {
   "display_name": "Python 3",
   "language": "python",
   "name": "python3"
  },
  "language_info": {
   "codemirror_mode": {
    "name": "ipython",
    "version": 3
   },
   "file_extension": ".py",
   "mimetype": "text/x-python",
   "name": "python",
   "nbconvert_exporter": "python",
   "pygments_lexer": "ipython3",
   "version": "3.8.8"
  }
 },
 "nbformat": 4,
 "nbformat_minor": 5
}
