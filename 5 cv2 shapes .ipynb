{
 "cells": [
  {
   "cell_type": "code",
   "execution_count": 1,
   "id": "e7358ea6",
   "metadata": {},
   "outputs": [
    {
     "data": {
      "text/plain": [
       "233"
      ]
     },
     "execution_count": 1,
     "metadata": {},
     "output_type": "execute_result"
    }
   ],
   "source": [
    "import cv2 \n",
    "import numpy as np \n",
    "img=np.zeros((512,512,3),np.uint8)\n",
    "#print(img)\n",
    "#img[:]=255.0.0\n",
    "cv2.line(img ,(0,0),(img.shape[1],img.shape[0]),(0,255,0),3)\n",
    "#rectangle\n",
    "cv2.rectangle(img,(0,0),(250,350),(0,0,255),3)\n",
    "cv2.circle(img,(400,50),30,(255,255,0),5)\n",
    "cv2.putText(img,\"Salam muha\", (300,200),cv2.FONT_HERSHEY_COMPLEX,1,(250,0,0),3)\n",
    "cv2.imshow('gorkez',img )\n",
    "cv2.waitKey(0)"
   ]
  },
  {
   "cell_type": "code",
   "execution_count": null,
   "id": "97939fec",
   "metadata": {},
   "outputs": [],
   "source": [
    "#41minut durdy "
   ]
  }
 ],
 "metadata": {
  "kernelspec": {
   "display_name": "Python 3",
   "language": "python",
   "name": "python3"
  },
  "language_info": {
   "codemirror_mode": {
    "name": "ipython",
    "version": 3
   },
   "file_extension": ".py",
   "mimetype": "text/x-python",
   "name": "python",
   "nbconvert_exporter": "python",
   "pygments_lexer": "ipython3",
   "version": "3.8.8"
  }
 },
 "nbformat": 4,
 "nbformat_minor": 5
}
