{
 "cells": [
  {
   "cell_type": "code",
   "execution_count": 1,
   "id": "419157a6",
   "metadata": {},
   "outputs": [],
   "source": [
    "import cv2"
   ]
  },
  {
   "cell_type": "code",
   "execution_count": 2,
   "id": "e359fc19",
   "metadata": {},
   "outputs": [],
   "source": [
    "import numpy as np"
   ]
  },
  {
   "cell_type": "code",
   "execution_count": 3,
   "id": "bca40f1c",
   "metadata": {},
   "outputs": [
    {
     "data": {
      "text/plain": [
       "-1"
      ]
     },
     "execution_count": 3,
     "metadata": {},
     "output_type": "execute_result"
    }
   ],
   "source": [
    "img=cv2.imread(\"bend.jpg\")\n",
    "kernel=np.ones((5,5),np.uint8)\n",
    "#convert color\n",
    "imgGray=cv2.cvtColor(img,cv2.COLOR_BGR2GRAY)\n",
    "#make more legible gray\n",
    "imgBlur=cv2.GaussianBlur(imgGray,(7,7),0)\n",
    "#shape detection\n",
    "imgCanny=cv2.Canny(img,100,100)\n",
    "#kontrast goshya \n",
    "imgDialation=cv2.dilate(imgCanny,kernel,iterations=1)\n",
    "#yokarky yonaltya ashaky yukoltya \n",
    "imgEroded=cv2.erode(imgCanny,kernel,iterations=1)\n",
    "cv2.imshow('gray surat',imgGray)\n",
    "cv2.imshow('imgBlur surat',imgBlur)\n",
    "cv2.imshow('Shape surat',imgCanny)\n",
    "cv2.imshow('Dialation surat',imgDialation)\n",
    "cv2.imshow('eroded  surat',imgEroded)\n",
    "cv2.waitKey(0)"
   ]
  },
  {
   "cell_type": "code",
   "execution_count": null,
   "id": "fe94bf23",
   "metadata": {},
   "outputs": [],
   "source": []
  }
 ],
 "metadata": {
  "kernelspec": {
   "display_name": "Python 3",
   "language": "python",
   "name": "python3"
  },
  "language_info": {
   "codemirror_mode": {
    "name": "ipython",
    "version": 3
   },
   "file_extension": ".py",
   "mimetype": "text/x-python",
   "name": "python",
   "nbconvert_exporter": "python",
   "pygments_lexer": "ipython3",
   "version": "3.8.8"
  }
 },
 "nbformat": 4,
 "nbformat_minor": 5
}
