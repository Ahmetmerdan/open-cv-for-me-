{
 "cells": [
  {
   "cell_type": "code",
   "execution_count": 1,
   "id": "2b1d3235",
   "metadata": {},
   "outputs": [
    {
     "data": {
      "text/plain": [
       "-1"
      ]
     },
     "execution_count": 1,
     "metadata": {},
     "output_type": "execute_result"
    }
   ],
   "source": [
    "import cv2\n",
    "import numpy as np \n",
    "img=cv2.imread('bend.jpg')\n",
    "#print(img.shape)\n",
    "#resize picture\n",
    "imgResize=cv2.resize(img,(200,200))\n",
    "#print(imgResize.shape)\n",
    "imgCropped=img[0:200,200:500] \n",
    "#cv2.imshow(\"resize image\",imgResize)\n",
    "#cv2.imshow('Image',img)\n",
    "cv2.imshow('cropped',imgCropped)\n",
    "cv2.waitKey(0)"
   ]
  },
  {
   "cell_type": "code",
   "execution_count": null,
   "id": "5f7112cf",
   "metadata": {},
   "outputs": [],
   "source": []
  }
 ],
 "metadata": {
  "kernelspec": {
   "display_name": "Python 3",
   "language": "python",
   "name": "python3"
  },
  "language_info": {
   "codemirror_mode": {
    "name": "ipython",
    "version": 3
   },
   "file_extension": ".py",
   "mimetype": "text/x-python",
   "name": "python",
   "nbconvert_exporter": "python",
   "pygments_lexer": "ipython3",
   "version": "3.8.8"
  }
 },
 "nbformat": 4,
 "nbformat_minor": 5
}
