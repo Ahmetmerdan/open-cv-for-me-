{
 "cells": [
  {
   "cell_type": "code",
   "execution_count": null,
   "id": "e813a6c9",
   "metadata": {},
   "outputs": [],
   "source": [
    "import cv2 \n",
    "import numpy as np \n",
    "frameWidth=640\n",
    "frameHeight=480\n",
    "cap=cap2.VideoCapture(0)\n",
    "cap.set(3,frameWidth)\n",
    "cap.set(4,frameHeight)\n",
    "cap.set(10,130)\n",
    "\n",
    "myColors=[[5,107,0,19,255,255],\n",
    "          [133,56,0,159,156,255],\n",
    "         [57,76,0,100,255,255]]\n",
    "\n",
    "def findColor(img,myColors):\n",
    "    imgHSV=cv2.cvtColor(img,cv2.COLOR_BGR2HSV)\n",
    "    for color in myColor:\n",
    "        lower=np.array(color[0:3])\n",
    "        upper=np.array(color[3:6])\n",
    "        mask=cv2.inRange(imgHSV,lower,upper)\n",
    "        x,y=getContours(mask)\n",
    "        cv2.circle(imgResult,(x,y),10,(255,0,0),cv2.FILLED)\n",
    "        #cv2.imshow(str(color[0]),mask)\n",
    "        \n",
    "def getContours(img):\n",
    "    contours,hierarchy=cv2.findContours(img,cv2.RETR_EXTERNAL,cv2.CHAIN_APPROX_NONE)\n",
    "    x,y,w,h=0,0,0,0\n",
    "    for cnt in contours:\n",
    "        area=cv2.contourArea(cnt)\n",
    "        if area>500:\n",
    "            cv2.drawContours(imgContour,cnt,-1,(255,0,0),3)\n",
    "            peri=cv2.arcLength(cnt,True)\n",
    "            approx=cv2.approxPolyDP(cnt,0.02*peri,True)\n",
    "            objCor=len(approx)\n",
    "            x,y,w,h=cv2.boundingRect(approx)\n",
    "    return x+w//2,y\n",
    "while True:\n",
    "    success, img=cap.read()\n",
    "    imgResult=img.copy()\n",
    "    findColor(img,myColors)\n",
    "    cv2.imshow(\"result\", imgResult)\n",
    "    if cv2waitKey(1) and 0xFF==ord('q'):\n",
    "        break "
   ]
  },
  {
   "cell_type": "code",
   "execution_count": null,
   "id": "820af567",
   "metadata": {},
   "outputs": [],
   "source": []
  }
 ],
 "metadata": {
  "kernelspec": {
   "display_name": "Python 3",
   "language": "python",
   "name": "python3"
  },
  "language_info": {
   "codemirror_mode": {
    "name": "ipython",
    "version": 3
   },
   "file_extension": ".py",
   "mimetype": "text/x-python",
   "name": "python",
   "nbconvert_exporter": "python",
   "pygments_lexer": "ipython3",
   "version": "3.8.8"
  }
 },
 "nbformat": 4,
 "nbformat_minor": 5
}
